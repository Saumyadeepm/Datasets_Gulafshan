{
 "cells": [
  {
   "cell_type": "markdown",
   "id": "91efa87f",
   "metadata": {},
   "source": [
    "# **Importing**"
   ]
  },
  {
   "cell_type": "markdown",
   "id": "f9aac457",
   "metadata": {},
   "source": [
    "**Importing Libraries & Datasets**"
   ]
  },
  {
   "cell_type": "code",
   "execution_count": 1,
   "id": "28656784",
   "metadata": {},
   "outputs": [],
   "source": [
    "#Importing Libraries\n",
    "\n",
    "import pandas as pd\n",
    "import numpy as np\n",
    "from sklearn import metrics\n",
    "from matplotlib import rcParams\n",
    "rcParams['figure.figsize'] = (12,  6)\n",
    "import matplotlib.pyplot as plt\n",
    "\n",
    "import seaborn as sns\n",
    "import warnings\n",
    "warnings.filterwarnings(\"ignore\")"
   ]
  },
  {
   "cell_type": "code",
   "execution_count": 2,
   "id": "415142c4",
   "metadata": {},
   "outputs": [],
   "source": [
    "## Importing Datasets\n",
    "\n",
    "lon_lat = pd.read_csv(\"C:/Users/GULAFSHAN/Desktop/Data_Analytics_Proj/Longitude_Latitude.csv\")\n",
    "marine = pd.read_csv(\"C:/Users/GULAFSHAN/Desktop/Data_Analytics_Proj/Global_2020_MarineSpeciesRichness_AquaMaps.csv\")\n",
    "temp = pd.read_csv(\"C:/Users/GULAFSHAN/Desktop/Data_Analytics_Proj/city_temp.csv\")"
   ]
  },
  {
   "cell_type": "code",
   "execution_count": 3,
   "id": "054b3cdb",
   "metadata": {},
   "outputs": [
    {
     "data": {
      "text/html": [
       "<div>\n",
       "<style scoped>\n",
       "    .dataframe tbody tr th:only-of-type {\n",
       "        vertical-align: middle;\n",
       "    }\n",
       "\n",
       "    .dataframe tbody tr th {\n",
       "        vertical-align: top;\n",
       "    }\n",
       "\n",
       "    .dataframe thead th {\n",
       "        text-align: right;\n",
       "    }\n",
       "</style>\n",
       "<table border=\"1\" class=\"dataframe\">\n",
       "  <thead>\n",
       "    <tr style=\"text-align: right;\">\n",
       "      <th></th>\n",
       "      <th>Unnamed: 0</th>\n",
       "      <th>country</th>\n",
       "      <th>latitude</th>\n",
       "      <th>longitude</th>\n",
       "      <th>name</th>\n",
       "    </tr>\n",
       "  </thead>\n",
       "  <tbody>\n",
       "    <tr>\n",
       "      <th>0</th>\n",
       "      <td>0</td>\n",
       "      <td>AD</td>\n",
       "      <td>42.546245</td>\n",
       "      <td>1.601554</td>\n",
       "      <td>Andorra</td>\n",
       "    </tr>\n",
       "    <tr>\n",
       "      <th>1</th>\n",
       "      <td>1</td>\n",
       "      <td>AE</td>\n",
       "      <td>23.424076</td>\n",
       "      <td>53.847818</td>\n",
       "      <td>United Arab Emirates</td>\n",
       "    </tr>\n",
       "    <tr>\n",
       "      <th>2</th>\n",
       "      <td>2</td>\n",
       "      <td>AF</td>\n",
       "      <td>33.939110</td>\n",
       "      <td>67.709953</td>\n",
       "      <td>Afghanistan</td>\n",
       "    </tr>\n",
       "    <tr>\n",
       "      <th>3</th>\n",
       "      <td>3</td>\n",
       "      <td>AG</td>\n",
       "      <td>17.060816</td>\n",
       "      <td>-61.796428</td>\n",
       "      <td>Antigua and Barbuda</td>\n",
       "    </tr>\n",
       "    <tr>\n",
       "      <th>4</th>\n",
       "      <td>4</td>\n",
       "      <td>AI</td>\n",
       "      <td>18.220554</td>\n",
       "      <td>-63.068615</td>\n",
       "      <td>Anguilla</td>\n",
       "    </tr>\n",
       "  </tbody>\n",
       "</table>\n",
       "</div>"
      ],
      "text/plain": [
       "   Unnamed: 0 country   latitude  longitude                  name\n",
       "0           0      AD  42.546245   1.601554               Andorra\n",
       "1           1      AE  23.424076  53.847818  United Arab Emirates\n",
       "2           2      AF  33.939110  67.709953           Afghanistan\n",
       "3           3      AG  17.060816 -61.796428   Antigua and Barbuda\n",
       "4           4      AI  18.220554 -63.068615              Anguilla"
      ]
     },
     "metadata": {},
     "output_type": "display_data"
    },
    {
     "data": {
      "text/html": [
       "<div>\n",
       "<style scoped>\n",
       "    .dataframe tbody tr th:only-of-type {\n",
       "        vertical-align: middle;\n",
       "    }\n",
       "\n",
       "    .dataframe tbody tr th {\n",
       "        vertical-align: top;\n",
       "    }\n",
       "\n",
       "    .dataframe thead th {\n",
       "        text-align: right;\n",
       "    }\n",
       "</style>\n",
       "<table border=\"1\" class=\"dataframe\">\n",
       "  <thead>\n",
       "    <tr style=\"text-align: right;\">\n",
       "      <th></th>\n",
       "      <th>C-Square Code</th>\n",
       "      <th>Latitude</th>\n",
       "      <th>Longitude</th>\n",
       "      <th>Species Count</th>\n",
       "    </tr>\n",
       "  </thead>\n",
       "  <tbody>\n",
       "    <tr>\n",
       "      <th>0</th>\n",
       "      <td>1212:121:2</td>\n",
       "      <td>22.25</td>\n",
       "      <td>121.75</td>\n",
       "      <td>9887</td>\n",
       "    </tr>\n",
       "    <tr>\n",
       "      <th>1</th>\n",
       "      <td>1212:121:4</td>\n",
       "      <td>22.75</td>\n",
       "      <td>121.75</td>\n",
       "      <td>9874</td>\n",
       "    </tr>\n",
       "    <tr>\n",
       "      <th>2</th>\n",
       "      <td>1212:354:4</td>\n",
       "      <td>25.75</td>\n",
       "      <td>124.75</td>\n",
       "      <td>9772</td>\n",
       "    </tr>\n",
       "    <tr>\n",
       "      <th>3</th>\n",
       "      <td>1212:353:4</td>\n",
       "      <td>25.75</td>\n",
       "      <td>123.75</td>\n",
       "      <td>9701</td>\n",
       "    </tr>\n",
       "    <tr>\n",
       "      <th>4</th>\n",
       "      <td>1012:236:4</td>\n",
       "      <td>3.75</td>\n",
       "      <td>126.75</td>\n",
       "      <td>9687</td>\n",
       "    </tr>\n",
       "  </tbody>\n",
       "</table>\n",
       "</div>"
      ],
      "text/plain": [
       "  C-Square Code  Latitude  Longitude  Species Count\n",
       "0    1212:121:2     22.25     121.75           9887\n",
       "1    1212:121:4     22.75     121.75           9874\n",
       "2    1212:354:4     25.75     124.75           9772\n",
       "3    1212:353:4     25.75     123.75           9701\n",
       "4    1012:236:4      3.75     126.75           9687"
      ]
     },
     "metadata": {},
     "output_type": "display_data"
    },
    {
     "data": {
      "text/html": [
       "<div>\n",
       "<style scoped>\n",
       "    .dataframe tbody tr th:only-of-type {\n",
       "        vertical-align: middle;\n",
       "    }\n",
       "\n",
       "    .dataframe tbody tr th {\n",
       "        vertical-align: top;\n",
       "    }\n",
       "\n",
       "    .dataframe thead th {\n",
       "        text-align: right;\n",
       "    }\n",
       "</style>\n",
       "<table border=\"1\" class=\"dataframe\">\n",
       "  <thead>\n",
       "    <tr style=\"text-align: right;\">\n",
       "      <th></th>\n",
       "      <th>Region</th>\n",
       "      <th>Country</th>\n",
       "      <th>State</th>\n",
       "      <th>City</th>\n",
       "      <th>Month</th>\n",
       "      <th>Day</th>\n",
       "      <th>Year</th>\n",
       "      <th>AvgTemperature</th>\n",
       "    </tr>\n",
       "  </thead>\n",
       "  <tbody>\n",
       "    <tr>\n",
       "      <th>0</th>\n",
       "      <td>Africa</td>\n",
       "      <td>Algeria</td>\n",
       "      <td>NaN</td>\n",
       "      <td>Algiers</td>\n",
       "      <td>1</td>\n",
       "      <td>1</td>\n",
       "      <td>1995</td>\n",
       "      <td>64.2</td>\n",
       "    </tr>\n",
       "    <tr>\n",
       "      <th>1</th>\n",
       "      <td>Africa</td>\n",
       "      <td>Algeria</td>\n",
       "      <td>NaN</td>\n",
       "      <td>Algiers</td>\n",
       "      <td>1</td>\n",
       "      <td>2</td>\n",
       "      <td>1995</td>\n",
       "      <td>49.4</td>\n",
       "    </tr>\n",
       "    <tr>\n",
       "      <th>2</th>\n",
       "      <td>Africa</td>\n",
       "      <td>Algeria</td>\n",
       "      <td>NaN</td>\n",
       "      <td>Algiers</td>\n",
       "      <td>1</td>\n",
       "      <td>3</td>\n",
       "      <td>1995</td>\n",
       "      <td>48.8</td>\n",
       "    </tr>\n",
       "    <tr>\n",
       "      <th>3</th>\n",
       "      <td>Africa</td>\n",
       "      <td>Algeria</td>\n",
       "      <td>NaN</td>\n",
       "      <td>Algiers</td>\n",
       "      <td>1</td>\n",
       "      <td>4</td>\n",
       "      <td>1995</td>\n",
       "      <td>46.4</td>\n",
       "    </tr>\n",
       "    <tr>\n",
       "      <th>4</th>\n",
       "      <td>Africa</td>\n",
       "      <td>Algeria</td>\n",
       "      <td>NaN</td>\n",
       "      <td>Algiers</td>\n",
       "      <td>1</td>\n",
       "      <td>5</td>\n",
       "      <td>1995</td>\n",
       "      <td>47.9</td>\n",
       "    </tr>\n",
       "  </tbody>\n",
       "</table>\n",
       "</div>"
      ],
      "text/plain": [
       "   Region  Country State     City  Month  Day  Year  AvgTemperature\n",
       "0  Africa  Algeria   NaN  Algiers      1    1  1995            64.2\n",
       "1  Africa  Algeria   NaN  Algiers      1    2  1995            49.4\n",
       "2  Africa  Algeria   NaN  Algiers      1    3  1995            48.8\n",
       "3  Africa  Algeria   NaN  Algiers      1    4  1995            46.4\n",
       "4  Africa  Algeria   NaN  Algiers      1    5  1995            47.9"
      ]
     },
     "metadata": {},
     "output_type": "display_data"
    }
   ],
   "source": [
    "## Displaying Datasets\n",
    "\n",
    "display(lon_lat.head())\n",
    "display(marine.head())\n",
    "display(temp.head())"
   ]
  },
  {
   "cell_type": "markdown",
   "id": "0718c37a",
   "metadata": {},
   "source": [
    "# **Data Cleaning/ Preparation**"
   ]
  },
  {
   "cell_type": "code",
   "execution_count": 4,
   "id": "06573121",
   "metadata": {},
   "outputs": [
    {
     "name": "stdout",
     "output_type": "stream",
     "text": [
      "--------------------------------------------------\n",
      "           After Dropping Unnamed Column\n",
      "__________________________________________________\n"
     ]
    },
    {
     "data": {
      "text/html": [
       "<div>\n",
       "<style scoped>\n",
       "    .dataframe tbody tr th:only-of-type {\n",
       "        vertical-align: middle;\n",
       "    }\n",
       "\n",
       "    .dataframe tbody tr th {\n",
       "        vertical-align: top;\n",
       "    }\n",
       "\n",
       "    .dataframe thead th {\n",
       "        text-align: right;\n",
       "    }\n",
       "</style>\n",
       "<table border=\"1\" class=\"dataframe\">\n",
       "  <thead>\n",
       "    <tr style=\"text-align: right;\">\n",
       "      <th></th>\n",
       "      <th>country</th>\n",
       "      <th>latitude</th>\n",
       "      <th>longitude</th>\n",
       "      <th>name</th>\n",
       "    </tr>\n",
       "  </thead>\n",
       "  <tbody>\n",
       "    <tr>\n",
       "      <th>0</th>\n",
       "      <td>AD</td>\n",
       "      <td>42.546245</td>\n",
       "      <td>1.601554</td>\n",
       "      <td>Andorra</td>\n",
       "    </tr>\n",
       "    <tr>\n",
       "      <th>1</th>\n",
       "      <td>AE</td>\n",
       "      <td>23.424076</td>\n",
       "      <td>53.847818</td>\n",
       "      <td>United Arab Emirates</td>\n",
       "    </tr>\n",
       "    <tr>\n",
       "      <th>2</th>\n",
       "      <td>AF</td>\n",
       "      <td>33.939110</td>\n",
       "      <td>67.709953</td>\n",
       "      <td>Afghanistan</td>\n",
       "    </tr>\n",
       "    <tr>\n",
       "      <th>3</th>\n",
       "      <td>AG</td>\n",
       "      <td>17.060816</td>\n",
       "      <td>-61.796428</td>\n",
       "      <td>Antigua and Barbuda</td>\n",
       "    </tr>\n",
       "    <tr>\n",
       "      <th>4</th>\n",
       "      <td>AI</td>\n",
       "      <td>18.220554</td>\n",
       "      <td>-63.068615</td>\n",
       "      <td>Anguilla</td>\n",
       "    </tr>\n",
       "  </tbody>\n",
       "</table>\n",
       "</div>"
      ],
      "text/plain": [
       "  country   latitude  longitude                  name\n",
       "0      AD  42.546245   1.601554               Andorra\n",
       "1      AE  23.424076  53.847818  United Arab Emirates\n",
       "2      AF  33.939110  67.709953           Afghanistan\n",
       "3      AG  17.060816 -61.796428   Antigua and Barbuda\n",
       "4      AI  18.220554 -63.068615              Anguilla"
      ]
     },
     "metadata": {},
     "output_type": "display_data"
    }
   ],
   "source": [
    "#Dropping unnamed column\n",
    "print(\"-\"*50)\n",
    "print(\"           After Dropping Unnamed Column\")\n",
    "print(\"_\"*50)\n",
    "lon_lat = lon_lat.drop(lon_lat.columns[[0]], axis=1) \n",
    "display(lon_lat.head())"
   ]
  },
  {
   "cell_type": "code",
   "execution_count": 5,
   "id": "9a17371d",
   "metadata": {},
   "outputs": [
    {
     "name": "stdout",
     "output_type": "stream",
     "text": [
      "---------------------------------------------------------------------------\n",
      "Shape of Longitude & Latitude Dataset   :  (245, 4)\n",
      "Shape of Marine Species Richness Dataset:  (174321, 4)\n",
      "Shape of City Temperature Dataset       :  (2906327, 8)\n",
      "___________________________________________________________________________\n"
     ]
    }
   ],
   "source": [
    "# Shape of the dataset\n",
    "print(\"-\"*75)\n",
    "print(\"Shape of Longitude & Latitude Dataset   : \",lon_lat.shape)\n",
    "print(\"Shape of Marine Species Richness Dataset: \",marine.shape)\n",
    "print(\"Shape of City Temperature Dataset       : \",temp.shape)\n",
    "print(\"_\"*75)"
   ]
  },
  {
   "cell_type": "code",
   "execution_count": 6,
   "id": "a40306db",
   "metadata": {},
   "outputs": [
    {
     "name": "stdout",
     "output_type": "stream",
     "text": [
      "----------------------------------------\n",
      "       Longitude & Latitude\n",
      "________________________________________\n"
     ]
    },
    {
     "data": {
      "text/html": [
       "<div>\n",
       "<style scoped>\n",
       "    .dataframe tbody tr th:only-of-type {\n",
       "        vertical-align: middle;\n",
       "    }\n",
       "\n",
       "    .dataframe tbody tr th {\n",
       "        vertical-align: top;\n",
       "    }\n",
       "\n",
       "    .dataframe thead th {\n",
       "        text-align: right;\n",
       "    }\n",
       "</style>\n",
       "<table border=\"1\" class=\"dataframe\">\n",
       "  <thead>\n",
       "    <tr style=\"text-align: right;\">\n",
       "      <th></th>\n",
       "      <th>latitude</th>\n",
       "      <th>longitude</th>\n",
       "    </tr>\n",
       "  </thead>\n",
       "  <tbody>\n",
       "    <tr>\n",
       "      <th>count</th>\n",
       "      <td>244.000000</td>\n",
       "      <td>244.000000</td>\n",
       "    </tr>\n",
       "    <tr>\n",
       "      <th>mean</th>\n",
       "      <td>16.253109</td>\n",
       "      <td>13.294814</td>\n",
       "    </tr>\n",
       "    <tr>\n",
       "      <th>std</th>\n",
       "      <td>27.031206</td>\n",
       "      <td>73.976477</td>\n",
       "    </tr>\n",
       "    <tr>\n",
       "      <th>min</th>\n",
       "      <td>-75.250973</td>\n",
       "      <td>-177.156097</td>\n",
       "    </tr>\n",
       "    <tr>\n",
       "      <th>25%</th>\n",
       "      <td>-0.301710</td>\n",
       "      <td>-38.092008</td>\n",
       "    </tr>\n",
       "    <tr>\n",
       "      <th>50%</th>\n",
       "      <td>16.869235</td>\n",
       "      <td>18.182149</td>\n",
       "    </tr>\n",
       "    <tr>\n",
       "      <th>75%</th>\n",
       "      <td>38.965238</td>\n",
       "      <td>49.046734</td>\n",
       "    </tr>\n",
       "    <tr>\n",
       "      <th>max</th>\n",
       "      <td>77.553604</td>\n",
       "      <td>179.414413</td>\n",
       "    </tr>\n",
       "  </tbody>\n",
       "</table>\n",
       "</div>"
      ],
      "text/plain": [
       "         latitude   longitude\n",
       "count  244.000000  244.000000\n",
       "mean    16.253109   13.294814\n",
       "std     27.031206   73.976477\n",
       "min    -75.250973 -177.156097\n",
       "25%     -0.301710  -38.092008\n",
       "50%     16.869235   18.182149\n",
       "75%     38.965238   49.046734\n",
       "max     77.553604  179.414413"
      ]
     },
     "metadata": {},
     "output_type": "display_data"
    },
    {
     "name": "stdout",
     "output_type": "stream",
     "text": [
      "----------------------------------------\n",
      "         Marine Species Richness\n",
      "________________________________________\n"
     ]
    },
    {
     "data": {
      "text/html": [
       "<div>\n",
       "<style scoped>\n",
       "    .dataframe tbody tr th:only-of-type {\n",
       "        vertical-align: middle;\n",
       "    }\n",
       "\n",
       "    .dataframe tbody tr th {\n",
       "        vertical-align: top;\n",
       "    }\n",
       "\n",
       "    .dataframe thead th {\n",
       "        text-align: right;\n",
       "    }\n",
       "</style>\n",
       "<table border=\"1\" class=\"dataframe\">\n",
       "  <thead>\n",
       "    <tr style=\"text-align: right;\">\n",
       "      <th></th>\n",
       "      <th>Latitude</th>\n",
       "      <th>Longitude</th>\n",
       "      <th>Species Count</th>\n",
       "    </tr>\n",
       "  </thead>\n",
       "  <tbody>\n",
       "    <tr>\n",
       "      <th>count</th>\n",
       "      <td>174321.000000</td>\n",
       "      <td>174321.000000</td>\n",
       "      <td>174321.000000</td>\n",
       "    </tr>\n",
       "    <tr>\n",
       "      <th>mean</th>\n",
       "      <td>-0.496855</td>\n",
       "      <td>-8.443958</td>\n",
       "      <td>487.978563</td>\n",
       "    </tr>\n",
       "    <tr>\n",
       "      <th>std</th>\n",
       "      <td>47.551624</td>\n",
       "      <td>109.834499</td>\n",
       "      <td>982.532298</td>\n",
       "    </tr>\n",
       "    <tr>\n",
       "      <th>min</th>\n",
       "      <td>-78.250000</td>\n",
       "      <td>-179.750000</td>\n",
       "      <td>1.000000</td>\n",
       "    </tr>\n",
       "    <tr>\n",
       "      <th>25%</th>\n",
       "      <td>-42.250000</td>\n",
       "      <td>-107.250000</td>\n",
       "      <td>104.000000</td>\n",
       "    </tr>\n",
       "    <tr>\n",
       "      <th>50%</th>\n",
       "      <td>-5.250000</td>\n",
       "      <td>-18.750000</td>\n",
       "      <td>325.000000</td>\n",
       "    </tr>\n",
       "    <tr>\n",
       "      <th>75%</th>\n",
       "      <td>36.750000</td>\n",
       "      <td>89.250000</td>\n",
       "      <td>472.000000</td>\n",
       "    </tr>\n",
       "    <tr>\n",
       "      <th>max</th>\n",
       "      <td>89.750000</td>\n",
       "      <td>179.750000</td>\n",
       "      <td>9887.000000</td>\n",
       "    </tr>\n",
       "  </tbody>\n",
       "</table>\n",
       "</div>"
      ],
      "text/plain": [
       "            Latitude      Longitude  Species Count\n",
       "count  174321.000000  174321.000000  174321.000000\n",
       "mean       -0.496855      -8.443958     487.978563\n",
       "std        47.551624     109.834499     982.532298\n",
       "min       -78.250000    -179.750000       1.000000\n",
       "25%       -42.250000    -107.250000     104.000000\n",
       "50%        -5.250000     -18.750000     325.000000\n",
       "75%        36.750000      89.250000     472.000000\n",
       "max        89.750000     179.750000    9887.000000"
      ]
     },
     "metadata": {},
     "output_type": "display_data"
    },
    {
     "name": "stdout",
     "output_type": "stream",
     "text": [
      "---------------------------------------------------------\n",
      "                  City Temperature \n",
      "_________________________________________________________\n"
     ]
    },
    {
     "data": {
      "text/html": [
       "<div>\n",
       "<style scoped>\n",
       "    .dataframe tbody tr th:only-of-type {\n",
       "        vertical-align: middle;\n",
       "    }\n",
       "\n",
       "    .dataframe tbody tr th {\n",
       "        vertical-align: top;\n",
       "    }\n",
       "\n",
       "    .dataframe thead th {\n",
       "        text-align: right;\n",
       "    }\n",
       "</style>\n",
       "<table border=\"1\" class=\"dataframe\">\n",
       "  <thead>\n",
       "    <tr style=\"text-align: right;\">\n",
       "      <th></th>\n",
       "      <th>Month</th>\n",
       "      <th>Day</th>\n",
       "      <th>Year</th>\n",
       "      <th>AvgTemperature</th>\n",
       "    </tr>\n",
       "  </thead>\n",
       "  <tbody>\n",
       "    <tr>\n",
       "      <th>count</th>\n",
       "      <td>2.906327e+06</td>\n",
       "      <td>2.906327e+06</td>\n",
       "      <td>2.906327e+06</td>\n",
       "      <td>2.906327e+06</td>\n",
       "    </tr>\n",
       "    <tr>\n",
       "      <th>mean</th>\n",
       "      <td>6.469163e+00</td>\n",
       "      <td>1.571682e+01</td>\n",
       "      <td>2.006624e+03</td>\n",
       "      <td>5.600492e+01</td>\n",
       "    </tr>\n",
       "    <tr>\n",
       "      <th>std</th>\n",
       "      <td>3.456489e+00</td>\n",
       "      <td>8.800534e+00</td>\n",
       "      <td>2.338226e+01</td>\n",
       "      <td>3.212359e+01</td>\n",
       "    </tr>\n",
       "    <tr>\n",
       "      <th>min</th>\n",
       "      <td>1.000000e+00</td>\n",
       "      <td>0.000000e+00</td>\n",
       "      <td>2.000000e+02</td>\n",
       "      <td>-9.900000e+01</td>\n",
       "    </tr>\n",
       "    <tr>\n",
       "      <th>25%</th>\n",
       "      <td>3.000000e+00</td>\n",
       "      <td>8.000000e+00</td>\n",
       "      <td>2.001000e+03</td>\n",
       "      <td>4.580000e+01</td>\n",
       "    </tr>\n",
       "    <tr>\n",
       "      <th>50%</th>\n",
       "      <td>6.000000e+00</td>\n",
       "      <td>1.600000e+01</td>\n",
       "      <td>2.007000e+03</td>\n",
       "      <td>6.250000e+01</td>\n",
       "    </tr>\n",
       "    <tr>\n",
       "      <th>75%</th>\n",
       "      <td>9.000000e+00</td>\n",
       "      <td>2.300000e+01</td>\n",
       "      <td>2.013000e+03</td>\n",
       "      <td>7.550000e+01</td>\n",
       "    </tr>\n",
       "    <tr>\n",
       "      <th>max</th>\n",
       "      <td>1.200000e+01</td>\n",
       "      <td>3.100000e+01</td>\n",
       "      <td>2.020000e+03</td>\n",
       "      <td>1.100000e+02</td>\n",
       "    </tr>\n",
       "  </tbody>\n",
       "</table>\n",
       "</div>"
      ],
      "text/plain": [
       "              Month           Day          Year  AvgTemperature\n",
       "count  2.906327e+06  2.906327e+06  2.906327e+06    2.906327e+06\n",
       "mean   6.469163e+00  1.571682e+01  2.006624e+03    5.600492e+01\n",
       "std    3.456489e+00  8.800534e+00  2.338226e+01    3.212359e+01\n",
       "min    1.000000e+00  0.000000e+00  2.000000e+02   -9.900000e+01\n",
       "25%    3.000000e+00  8.000000e+00  2.001000e+03    4.580000e+01\n",
       "50%    6.000000e+00  1.600000e+01  2.007000e+03    6.250000e+01\n",
       "75%    9.000000e+00  2.300000e+01  2.013000e+03    7.550000e+01\n",
       "max    1.200000e+01  3.100000e+01  2.020000e+03    1.100000e+02"
      ]
     },
     "metadata": {},
     "output_type": "display_data"
    }
   ],
   "source": [
    "# Description Of The Datasets\n",
    "\n",
    "print(\"-\"*40)\n",
    "print(\"       Longitude & Latitude\")\n",
    "print(\"_\"*40)\n",
    "display(lon_lat.describe())\n",
    "print(\"-\"*40)\n",
    "print(\"         Marine Species Richness\")\n",
    "print(\"_\"*40)\n",
    "display(marine.describe())\n",
    "print(\"-\"*57)\n",
    "print(\"                  City Temperature \")\n",
    "print(\"_\"*57)\n",
    "display(temp.describe())"
   ]
  },
  {
   "cell_type": "markdown",
   "id": "71099846",
   "metadata": {},
   "source": [
    "**Identifying Anomalies/ Missing Data**"
   ]
  },
  {
   "cell_type": "code",
   "execution_count": 7,
   "id": "4b927c57",
   "metadata": {},
   "outputs": [
    {
     "name": "stdout",
     "output_type": "stream",
     "text": [
      "<class 'pandas.core.frame.DataFrame'>\n",
      "RangeIndex: 245 entries, 0 to 244\n",
      "Data columns (total 4 columns):\n",
      " #   Column     Non-Null Count  Dtype  \n",
      "---  ------     --------------  -----  \n",
      " 0   country    244 non-null    object \n",
      " 1   latitude   244 non-null    float64\n",
      " 2   longitude  244 non-null    float64\n",
      " 3   name       245 non-null    object \n",
      "dtypes: float64(2), object(2)\n",
      "memory usage: 7.8+ KB\n"
     ]
    },
    {
     "data": {
      "text/plain": [
       "None"
      ]
     },
     "metadata": {},
     "output_type": "display_data"
    },
    {
     "name": "stdout",
     "output_type": "stream",
     "text": [
      "--------------------------------------------------\n",
      "<class 'pandas.core.frame.DataFrame'>\n",
      "RangeIndex: 174321 entries, 0 to 174320\n",
      "Data columns (total 4 columns):\n",
      " #   Column         Non-Null Count   Dtype  \n",
      "---  ------         --------------   -----  \n",
      " 0   C-Square Code  174321 non-null  object \n",
      " 1   Latitude       174321 non-null  float64\n",
      " 2   Longitude      174321 non-null  float64\n",
      " 3   Species Count  174321 non-null  int64  \n",
      "dtypes: float64(2), int64(1), object(1)\n",
      "memory usage: 5.3+ MB\n"
     ]
    },
    {
     "data": {
      "text/plain": [
       "None"
      ]
     },
     "metadata": {},
     "output_type": "display_data"
    },
    {
     "name": "stdout",
     "output_type": "stream",
     "text": [
      "--------------------------------------------------\n",
      "<class 'pandas.core.frame.DataFrame'>\n",
      "RangeIndex: 2906327 entries, 0 to 2906326\n",
      "Data columns (total 8 columns):\n",
      " #   Column          Dtype  \n",
      "---  ------          -----  \n",
      " 0   Region          object \n",
      " 1   Country         object \n",
      " 2   State           object \n",
      " 3   City            object \n",
      " 4   Month           int64  \n",
      " 5   Day             int64  \n",
      " 6   Year            int64  \n",
      " 7   AvgTemperature  float64\n",
      "dtypes: float64(1), int64(3), object(4)\n",
      "memory usage: 177.4+ MB\n"
     ]
    },
    {
     "data": {
      "text/plain": [
       "None"
      ]
     },
     "metadata": {},
     "output_type": "display_data"
    }
   ],
   "source": [
    "# Information about the dataset\n",
    "\n",
    "display(lon_lat.info())\n",
    "print(\"-\"*50)\n",
    "display(marine.info())\n",
    "print(\"-\"*50)\n",
    "display(temp.info())"
   ]
  },
  {
   "cell_type": "code",
   "execution_count": 8,
   "id": "63c92c03",
   "metadata": {},
   "outputs": [
    {
     "data": {
      "text/plain": [
       "country      1\n",
       "latitude     1\n",
       "longitude    1\n",
       "name         0\n",
       "dtype: int64"
      ]
     },
     "metadata": {},
     "output_type": "display_data"
    },
    {
     "name": "stdout",
     "output_type": "stream",
     "text": [
      "--------------------------------------------------\n"
     ]
    },
    {
     "data": {
      "text/plain": [
       "C-Square Code    0\n",
       "Latitude         0\n",
       "Longitude        0\n",
       "Species Count    0\n",
       "dtype: int64"
      ]
     },
     "metadata": {},
     "output_type": "display_data"
    },
    {
     "name": "stdout",
     "output_type": "stream",
     "text": [
      "--------------------------------------------------\n"
     ]
    },
    {
     "data": {
      "text/plain": [
       "Region                  0\n",
       "Country                 0\n",
       "State             1450990\n",
       "City                    0\n",
       "Month                   0\n",
       "Day                     0\n",
       "Year                    0\n",
       "AvgTemperature          0\n",
       "dtype: int64"
      ]
     },
     "metadata": {},
     "output_type": "display_data"
    }
   ],
   "source": [
    "## Checking Null Values\n",
    "display(lon_lat.isnull().sum())\n",
    "print(\"-\"*50)\n",
    "display(marine.isnull().sum())\n",
    "print(\"-\"*50)\n",
    "display(temp.isnull().sum())\n",
    "\n",
    "\n",
    "## Handling NAN Values filling missing values using fillna() \n",
    "lon_lat = lon_lat.fillna(0)\n",
    "marine = marine.fillna(0)\n",
    "temp = temp.fillna(0)"
   ]
  },
  {
   "cell_type": "markdown",
   "id": "cae1c496",
   "metadata": {},
   "source": [
    "## **Merging Dataframe**"
   ]
  },
  {
   "cell_type": "code",
   "execution_count": 11,
   "id": "99942fb6",
   "metadata": {},
   "outputs": [
    {
     "data": {
      "application/vnd.jupyter.widget-view+json": {
       "model_id": "",
       "version_major": 2,
       "version_minor": 0
      },
      "text/plain": [
       "  0%|                                                                                            | 0/8 [00:00<…"
      ]
     },
     "metadata": {},
     "output_type": "display_data"
    },
    {
     "name": "stdout",
     "output_type": "stream",
     "text": [
      "Country Cleaning Report:\n",
      "\t3 values cleaned (100.0%)\n",
      "Result contains 3 (100.0%) values in the correct format and 0 null values (0.0%)\n"
     ]
    },
    {
     "data": {
      "text/html": [
       "<div>\n",
       "<style scoped>\n",
       "    .dataframe tbody tr th:only-of-type {\n",
       "        vertical-align: middle;\n",
       "    }\n",
       "\n",
       "    .dataframe tbody tr th {\n",
       "        vertical-align: top;\n",
       "    }\n",
       "\n",
       "    .dataframe thead th {\n",
       "        text-align: right;\n",
       "    }\n",
       "</style>\n",
       "<table border=\"1\" class=\"dataframe\">\n",
       "  <thead>\n",
       "    <tr style=\"text-align: right;\">\n",
       "      <th></th>\n",
       "      <th>country</th>\n",
       "      <th>country_clean</th>\n",
       "    </tr>\n",
       "  </thead>\n",
       "  <tbody>\n",
       "    <tr>\n",
       "      <th>0</th>\n",
       "      <td>American Samoa</td>\n",
       "      <td>AS</td>\n",
       "    </tr>\n",
       "    <tr>\n",
       "      <th>1</th>\n",
       "      <td>Canada</td>\n",
       "      <td>CA</td>\n",
       "    </tr>\n",
       "    <tr>\n",
       "      <th>2</th>\n",
       "      <td>France</td>\n",
       "      <td>FR</td>\n",
       "    </tr>\n",
       "  </tbody>\n",
       "</table>\n",
       "</div>"
      ],
      "text/plain": [
       "          country country_clean\n",
       "0  American Samoa            AS\n",
       "1          Canada            CA\n",
       "2          France            FR"
      ]
     },
     "execution_count": 11,
     "metadata": {},
     "output_type": "execute_result"
    }
   ],
   "source": [
    "from dataprep.clean import clean_country\n",
    "import pandas as pd\n",
    "\n",
    "df = pd.DataFrame({'country': ['American Samoa', 'Canada', 'France']})\n",
    "df2 = clean_country(df, 'country', output_format='alpha-2')\n",
    "df2"
   ]
  },
  {
   "cell_type": "code",
   "execution_count": null,
   "id": "fa2feb78",
   "metadata": {},
   "outputs": [],
   "source": []
  }
 ],
 "metadata": {
  "kernelspec": {
   "display_name": "Python 3 (ipykernel)",
   "language": "python",
   "name": "python3"
  },
  "language_info": {
   "codemirror_mode": {
    "name": "ipython",
    "version": 3
   },
   "file_extension": ".py",
   "mimetype": "text/x-python",
   "name": "python",
   "nbconvert_exporter": "python",
   "pygments_lexer": "ipython3",
   "version": "3.9.12"
  }
 },
 "nbformat": 4,
 "nbformat_minor": 5
}
